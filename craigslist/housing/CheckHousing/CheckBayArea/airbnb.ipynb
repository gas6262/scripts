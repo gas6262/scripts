{
 "cells": [
  {
   "cell_type": "code",
   "execution_count": 5,
   "metadata": {},
   "outputs": [],
   "source": [
    "import airbnb\n",
    "\n",
    "api = airbnb.Api()"
   ]
  },
  {
   "cell_type": "code",
   "execution_count": 6,
   "metadata": {},
   "outputs": [],
   "source": [
    "# Listing we're interested in\n",
    "listings = [798059248459616940, 15742221, 668858660455649221]"
   ]
  },
  {
   "cell_type": "code",
   "execution_count": 12,
   "metadata": {},
   "outputs": [],
   "source": [
    "for listing in listings:\n",
    "    cal = api.get_calendar(listing, starting_month=9, starting_year=2023, calendar_months=1)\n",
    "    days = cal[\"calendar_months\"][0][\"days\"]\n",
    "    total = len(days)\n",
    "    available = sum([1 for day in days if day[\"available\"]])\n",
    "    monthly_price = sum([day[\"price\"][\"local_adjusted_price\"] for day in days if not day[\"available\"]])\n",
    "    occupancy = 1 - available / total\n",
    "    print(f\"Occupancy for listing {listing} is {occupancy:.2%}\")\n"
   ]
  },
  {
   "cell_type": "code",
   "execution_count": null,
   "metadata": {},
   "outputs": [],
   "source": []
  }
 ],
 "metadata": {
  "kernelspec": {
   "display_name": "Python 3",
   "language": "python",
   "name": "python3"
  },
  "language_info": {
   "codemirror_mode": {
    "name": "ipython",
    "version": 3
   },
   "file_extension": ".py",
   "mimetype": "text/x-python",
   "name": "python",
   "nbconvert_exporter": "python",
   "pygments_lexer": "ipython3",
   "version": "3.10.8"
  },
  "orig_nbformat": 4
 },
 "nbformat": 4,
 "nbformat_minor": 2
}
